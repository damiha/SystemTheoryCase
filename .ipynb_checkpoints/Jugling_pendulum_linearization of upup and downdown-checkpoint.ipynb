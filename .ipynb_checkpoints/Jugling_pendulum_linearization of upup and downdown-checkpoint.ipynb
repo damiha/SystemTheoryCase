{
 "cells": [
  {
   "cell_type": "code",
   "execution_count": 2,
   "id": "8115e103",
   "metadata": {},
   "outputs": [],
   "source": [
    "import sympy as sp"
   ]
  },
  {
   "cell_type": "code",
   "execution_count": 3,
   "id": "49a15d04",
   "metadata": {},
   "outputs": [],
   "source": [
    "m1, m2, l1, l2, g, b1, b2 = sp.symbols(\"m_1, m_2, l_1, l_2, g, b_1, b_2\")\n",
    "t = sp.Symbol(\"t\")\n",
    "\n",
    "phi1 = sp.Function(\"\\phi_1\")\n",
    "phi2 = sp.Function(\"\\phi_2\")\n",
    "u = sp.Function(\"u\")"
   ]
  },
  {
   "cell_type": "code",
   "execution_count": 4,
   "id": "f43d80e8",
   "metadata": {},
   "outputs": [
    {
     "data": {
      "text/latex": [
       "$\\displaystyle \\left[\\begin{matrix}l_{1}^{2} \\left(m_{1} + m_{2}\\right) + 2 l_{1} l_{2} m_{2} + l_{2}^{2} m_{2} & - l_{1} l_{2} m_{2} - l_{2}^{2} m_{2}\\\\- l_{1} l_{2} m_{2} - l_{2}^{2} m_{2} & l_{2}^{2} m_{2}\\end{matrix}\\right]$"
      ],
      "text/plain": [
       "Matrix([\n",
       "[l_1**2*(m_1 + m_2) + 2*l_1*l_2*m_2 + l_2**2*m_2, -l_1*l_2*m_2 - l_2**2*m_2],\n",
       "[                      -l_1*l_2*m_2 - l_2**2*m_2,                l_2**2*m_2]])"
      ]
     },
     "execution_count": 4,
     "metadata": {},
     "output_type": "execute_result"
    }
   ],
   "source": [
    "M = sp.Matrix([\n",
    "    [(m1 + m2)*l1**2 + m2 * l2**2 + 2 * m2 * l1 * l2,\n",
    "     -m2 * l2**2 - m2 * l1 * l2],\n",
    "    [-m2 * l2**2 - m2 * l1 * l2,\n",
    "    m2 * l2**2]\n",
    "])\n",
    "M"
   ]
  },
  {
   "cell_type": "code",
   "execution_count": 5,
   "id": "d8d603d8",
   "metadata": {},
   "outputs": [
    {
     "data": {
      "text/latex": [
       "$\\displaystyle \\left[\\begin{matrix}b_{1} & 0\\\\0 & b_{2}\\end{matrix}\\right]$"
      ],
      "text/plain": [
       "Matrix([\n",
       "[b_1,   0],\n",
       "[  0, b_2]])"
      ]
     },
     "execution_count": 5,
     "metadata": {},
     "output_type": "execute_result"
    }
   ],
   "source": [
    "G = sp.Matrix([\n",
    "    [b1, 0],\n",
    "    [0, b2]\n",
    "])\n",
    "G"
   ]
  },
  {
   "cell_type": "code",
   "execution_count": 6,
   "id": "2d3dbb43",
   "metadata": {},
   "outputs": [
    {
     "data": {
      "text/latex": [
       "$\\displaystyle \\left[\\begin{matrix}g l_{1} \\left(- m_{1} - m_{2}\\right) - g l_{2} m_{2} & g l_{2} m_{2}\\\\g l_{2} m_{2} & - g l_{2} m_{2}\\end{matrix}\\right]$"
      ],
      "text/plain": [
       "Matrix([\n",
       "[g*l_1*(-m_1 - m_2) - g*l_2*m_2,  g*l_2*m_2],\n",
       "[                     g*l_2*m_2, -g*l_2*m_2]])"
      ]
     },
     "execution_count": 6,
     "metadata": {},
     "output_type": "execute_result"
    }
   ],
   "source": [
    "K = sp.Matrix([\n",
    "    [-(m1 + m2) * g * l1 - m2 * g * l2,\n",
    "     m2 * g * l2], \n",
    "    [m2 * g * l2, -m2 * g * l2]\n",
    "])\n",
    "K"
   ]
  },
  {
   "cell_type": "code",
   "execution_count": 7,
   "id": "fd775531",
   "metadata": {},
   "outputs": [],
   "source": [
    "phi = sp.Matrix([\n",
    "    phi1(t),\n",
    "    phi2(t)\n",
    "])\n",
    "\n",
    "phi_dot = sp.Matrix([\n",
    "    sp.diff(phi1(t), t),\n",
    "    sp.diff(phi2(t), t)\n",
    "])"
   ]
  },
  {
   "cell_type": "code",
   "execution_count": 8,
   "id": "86fbc521",
   "metadata": {},
   "outputs": [
    {
     "data": {
      "text/latex": [
       "$\\displaystyle \\left[\\begin{matrix}\\frac{- b_{1} \\frac{d}{d t} \\phi_{1}{\\left(t \\right)} - g l_{2} m_{2} \\phi_{2}{\\left(t \\right)} - \\left(g l_{1} \\left(- m_{1} - m_{2}\\right) - g l_{2} m_{2}\\right) \\phi_{1}{\\left(t \\right)} + u{\\left(t \\right)}}{l_{1}^{2} m_{1}} + \\frac{\\left(l_{1} + l_{2}\\right) \\left(- b_{2} \\frac{d}{d t} \\phi_{2}{\\left(t \\right)} - g l_{2} m_{2} \\phi_{1}{\\left(t \\right)} + g l_{2} m_{2} \\phi_{2}{\\left(t \\right)}\\right)}{l_{1}^{2} l_{2} m_{1}}\\\\\\left(\\frac{1}{l_{1} l_{2} m_{1}} + \\frac{1}{l_{1}^{2} m_{1}}\\right) \\left(- b_{1} \\frac{d}{d t} \\phi_{1}{\\left(t \\right)} - g l_{2} m_{2} \\phi_{2}{\\left(t \\right)} - \\left(g l_{1} \\left(- m_{1} - m_{2}\\right) - g l_{2} m_{2}\\right) \\phi_{1}{\\left(t \\right)} + u{\\left(t \\right)}\\right) + \\left(- b_{2} \\frac{d}{d t} \\phi_{2}{\\left(t \\right)} - g l_{2} m_{2} \\phi_{1}{\\left(t \\right)} + g l_{2} m_{2} \\phi_{2}{\\left(t \\right)}\\right) \\left(\\frac{1}{l_{2}^{2} m_{2}} + \\frac{1}{l_{2}^{2} m_{1}} + \\frac{2}{l_{1} l_{2} m_{1}} + \\frac{1}{l_{1}^{2} m_{1}}\\right)\\end{matrix}\\right]$"
      ],
      "text/plain": [
       "Matrix([\n",
       "[                                                              (-b_1*Derivative(\\phi_1(t), t) - g*l_2*m_2*\\phi_2(t) - (g*l_1*(-m_1 - m_2) - g*l_2*m_2)*\\phi_1(t) + u(t))/(l_1**2*m_1) + (l_1 + l_2)*(-b_2*Derivative(\\phi_2(t), t) - g*l_2*m_2*\\phi_1(t) + g*l_2*m_2*\\phi_2(t))/(l_1**2*l_2*m_1)],\n",
       "[(1/(l_1*l_2*m_1) + 1/(l_1**2*m_1))*(-b_1*Derivative(\\phi_1(t), t) - g*l_2*m_2*\\phi_2(t) - (g*l_1*(-m_1 - m_2) - g*l_2*m_2)*\\phi_1(t) + u(t)) + (-b_2*Derivative(\\phi_2(t), t) - g*l_2*m_2*\\phi_1(t) + g*l_2*m_2*\\phi_2(t))*(1/(l_2**2*m_2) + 1/(l_2**2*m_1) + 2/(l_1*l_2*m_1) + 1/(l_1**2*m_1))]])"
      ]
     },
     "execution_count": 8,
     "metadata": {},
     "output_type": "execute_result"
    }
   ],
   "source": [
    "phi_double_dot = M.inv() * (sp.Matrix([u(t), 0]) - (G * phi_dot) - (K * phi))\n",
    "phi_double_dot"
   ]
  },
  {
   "cell_type": "code",
   "execution_count": 9,
   "id": "2d8d56cb",
   "metadata": {},
   "outputs": [
    {
     "data": {
      "text/latex": [
       "$\\displaystyle \\left[\\begin{matrix}\\operatorname{x_{3}}{\\left(t \\right)}\\\\\\operatorname{x_{4}}{\\left(t \\right)}\\\\\\frac{- b_{1} \\operatorname{x_{3}}{\\left(t \\right)} - g l_{2} m_{2} \\operatorname{x_{2}}{\\left(t \\right)} - \\left(g l_{1} \\left(- m_{1} - m_{2}\\right) - g l_{2} m_{2}\\right) \\operatorname{x_{1}}{\\left(t \\right)} + u{\\left(t \\right)}}{l_{1}^{2} m_{1}} + \\frac{\\left(l_{1} + l_{2}\\right) \\left(- b_{2} \\operatorname{x_{4}}{\\left(t \\right)} - g l_{2} m_{2} \\operatorname{x_{1}}{\\left(t \\right)} + g l_{2} m_{2} \\operatorname{x_{2}}{\\left(t \\right)}\\right)}{l_{1}^{2} l_{2} m_{1}}\\\\\\left(\\frac{1}{l_{1} l_{2} m_{1}} + \\frac{1}{l_{1}^{2} m_{1}}\\right) \\left(- b_{1} \\operatorname{x_{3}}{\\left(t \\right)} - g l_{2} m_{2} \\operatorname{x_{2}}{\\left(t \\right)} - \\left(g l_{1} \\left(- m_{1} - m_{2}\\right) - g l_{2} m_{2}\\right) \\operatorname{x_{1}}{\\left(t \\right)} + u{\\left(t \\right)}\\right) + \\left(- b_{2} \\operatorname{x_{4}}{\\left(t \\right)} - g l_{2} m_{2} \\operatorname{x_{1}}{\\left(t \\right)} + g l_{2} m_{2} \\operatorname{x_{2}}{\\left(t \\right)}\\right) \\left(\\frac{1}{l_{2}^{2} m_{2}} + \\frac{1}{l_{2}^{2} m_{1}} + \\frac{2}{l_{1} l_{2} m_{1}} + \\frac{1}{l_{1}^{2} m_{1}}\\right)\\end{matrix}\\right]$"
      ],
      "text/plain": [
       "Matrix([\n",
       "[                                                                                                                                                                                                                                         x_3(t)],\n",
       "[                                                                                                                                                                                                                                         x_4(t)],\n",
       "[                                                              (-b_1*x_3(t) - g*l_2*m_2*x_2(t) - (g*l_1*(-m_1 - m_2) - g*l_2*m_2)*x_1(t) + u(t))/(l_1**2*m_1) + (l_1 + l_2)*(-b_2*x_4(t) - g*l_2*m_2*x_1(t) + g*l_2*m_2*x_2(t))/(l_1**2*l_2*m_1)],\n",
       "[(1/(l_1*l_2*m_1) + 1/(l_1**2*m_1))*(-b_1*x_3(t) - g*l_2*m_2*x_2(t) - (g*l_1*(-m_1 - m_2) - g*l_2*m_2)*x_1(t) + u(t)) + (-b_2*x_4(t) - g*l_2*m_2*x_1(t) + g*l_2*m_2*x_2(t))*(1/(l_2**2*m_2) + 1/(l_2**2*m_1) + 2/(l_1*l_2*m_1) + 1/(l_1**2*m_1))]])"
      ]
     },
     "execution_count": 9,
     "metadata": {},
     "output_type": "execute_result"
    }
   ],
   "source": [
    "x1 = sp.Function(r\"x_1\")\n",
    "x2 = sp.Function(r\"x_2\")\n",
    "x3 = sp.Function(r\"x_3\")\n",
    "x4 = sp.Function(r\"x_4\")\n",
    "\n",
    "substitution = {phi1(t): x1(t), phi2(t): x2(t), sp.diff(phi1(t), t): x3(t), sp.diff(phi2(t), t) : x4(t)}\n",
    "\n",
    "f = sp.Matrix([\n",
    "    x3(t),\n",
    "    x4(t),\n",
    "    phi_double_dot[0].subs(substitution),\n",
    "    phi_double_dot[1].subs(substitution)\n",
    "])\n",
    "\n",
    "f"
   ]
  },
  {
   "cell_type": "code",
   "execution_count": 10,
   "id": "2b9d0ba5",
   "metadata": {},
   "outputs": [
    {
     "data": {
      "text/latex": [
       "$\\displaystyle \\left[\\begin{matrix}\\operatorname{x_{3}}{\\left(t \\right)}\\\\\\operatorname{x_{4}}{\\left(t \\right)}\\\\130.8 \\operatorname{x_{1}}{\\left(t \\right)} + 52.32 \\operatorname{x_{2}}{\\left(t \\right)} - 6.82666666666667 \\operatorname{x_{3}}{\\left(t \\right)} - 0.0426666666666667 \\operatorname{x_{4}}{\\left(t \\right)}\\\\130.8 \\operatorname{x_{1}}{\\left(t \\right)} + 143.88 \\operatorname{x_{2}}{\\left(t \\right)} - 10.24 \\operatorname{x_{3}}{\\left(t \\right)} - 0.0817777777777778 \\operatorname{x_{4}}{\\left(t \\right)}\\end{matrix}\\right]$"
      ],
      "text/plain": [
       "Matrix([\n",
       "[                                                                           x_3(t)],\n",
       "[                                                                           x_4(t)],\n",
       "[130.8*x_1(t) + 52.32*x_2(t) - 6.82666666666667*x_3(t) - 0.0426666666666667*x_4(t)],\n",
       "[          130.8*x_1(t) + 143.88*x_2(t) - 10.24*x_3(t) - 0.0817777777777778*x_4(t)]])"
      ]
     },
     "execution_count": 10,
     "metadata": {},
     "output_type": "execute_result"
    }
   ],
   "source": [
    "physical_model = {\n",
    "    m1: 0.125,\n",
    "    m2: 0.05,\n",
    "    l1: 0.075,\n",
    "    l2: 0.15,\n",
    "    b1: 0.0048,\n",
    "    b2: 0.00002,\n",
    "    g: 9.81\n",
    "}\n",
    "\n",
    "f_no_control = f.subs({u(t) : 0})\n",
    "f_no_control_phys = f_no_control.subs(physical_model)\n",
    "f_no_control_phys"
   ]
  },
  {
   "cell_type": "code",
   "execution_count": 11,
   "id": "c3e8fb6b",
   "metadata": {},
   "outputs": [
    {
     "data": {
      "text/latex": [
       "$\\displaystyle \\left[\\begin{matrix}0 & 0 & 1 & 0\\\\0 & 0 & 0 & 1\\\\130.8 & 52.32 & -6.82666666666667 & -0.0426666666666667\\\\130.8 & 143.88 & -10.24 & -0.0817777777777778\\end{matrix}\\right]$"
      ],
      "text/plain": [
       "Matrix([\n",
       "[    0,      0,                 1,                   0],\n",
       "[    0,      0,                 0,                   1],\n",
       "[130.8,  52.32, -6.82666666666667, -0.0426666666666667],\n",
       "[130.8, 143.88,            -10.24, -0.0817777777777778]])"
      ]
     },
     "execution_count": 11,
     "metadata": {},
     "output_type": "execute_result"
    }
   ],
   "source": [
    "up_up = {x1(t): 0, x2(t): 0, x3(t): 0, x4(t): 0}\n",
    "A_up_up = f_no_control_phys.jacobian(sp.Matrix([x1(t), x2(t), x3(t), x4(t)])).subs(up_up)\n",
    "A_up_up"
   ]
  },
  {
   "cell_type": "code",
   "execution_count": 12,
   "id": "d25e6d45",
   "metadata": {},
   "outputs": [
    {
     "data": {
      "text/plain": [
       "{-18.5284891643680: 1,\n",
       " -7.55350352357357: 1,\n",
       " 7.06972461901220: 1,\n",
       " 12.1038236244850: 1}"
      ]
     },
     "execution_count": 12,
     "metadata": {},
     "output_type": "execute_result"
    }
   ],
   "source": [
    "A_up_up.eigenvals()"
   ]
  },
  {
   "cell_type": "code",
   "execution_count": null,
   "id": "b759a055",
   "metadata": {},
   "outputs": [],
   "source": []
  },
  {
   "cell_type": "code",
   "execution_count": 25,
   "id": "ff2fea12",
   "metadata": {},
   "outputs": [
    {
     "data": {
      "text/latex": [
       "$\\displaystyle \\left[\\begin{matrix}g l_{1} \\left(m_{1} + m_{2}\\right) + g l_{2} m_{2} & - g l_{2} m_{2}\\\\- g l_{2} m_{2} & g l_{2} m_{2}\\end{matrix}\\right]$"
      ],
      "text/plain": [
       "Matrix([\n",
       "[g*l_1*(m_1 + m_2) + g*l_2*m_2, -g*l_2*m_2],\n",
       "[                   -g*l_2*m_2,  g*l_2*m_2]])"
      ]
     },
     "execution_count": 25,
     "metadata": {},
     "output_type": "execute_result"
    }
   ],
   "source": [
    "K_2 = sp.Matrix([\n",
    "    [(m1 + m2) * g * l1 + m2 * g * l2,\n",
    "     -m2 * g * l2], \n",
    "    [-m2 * g * l2, m2 * g * l2]\n",
    "])\n",
    "K_2"
   ]
  },
  {
   "cell_type": "code",
   "execution_count": 26,
   "id": "84235c77",
   "metadata": {},
   "outputs": [
    {
     "data": {
      "text/latex": [
       "$\\displaystyle \\left[\\begin{matrix}\\frac{- b_{1} \\frac{d}{d t} \\phi_{1}{\\left(t \\right)} + g l_{2} m_{2} \\phi_{2}{\\left(t \\right)} - \\left(g l_{1} \\left(m_{1} + m_{2}\\right) + g l_{2} m_{2}\\right) \\phi_{1}{\\left(t \\right)} + u{\\left(t \\right)}}{l_{1}^{2} m_{1}} + \\frac{\\left(l_{1} + l_{2}\\right) \\left(- b_{2} \\frac{d}{d t} \\phi_{2}{\\left(t \\right)} + g l_{2} m_{2} \\phi_{1}{\\left(t \\right)} - g l_{2} m_{2} \\phi_{2}{\\left(t \\right)}\\right)}{l_{1}^{2} l_{2} m_{1}}\\\\\\left(\\frac{1}{l_{1} l_{2} m_{1}} + \\frac{1}{l_{1}^{2} m_{1}}\\right) \\left(- b_{1} \\frac{d}{d t} \\phi_{1}{\\left(t \\right)} + g l_{2} m_{2} \\phi_{2}{\\left(t \\right)} - \\left(g l_{1} \\left(m_{1} + m_{2}\\right) + g l_{2} m_{2}\\right) \\phi_{1}{\\left(t \\right)} + u{\\left(t \\right)}\\right) + \\left(- b_{2} \\frac{d}{d t} \\phi_{2}{\\left(t \\right)} + g l_{2} m_{2} \\phi_{1}{\\left(t \\right)} - g l_{2} m_{2} \\phi_{2}{\\left(t \\right)}\\right) \\left(\\frac{1}{l_{2}^{2} m_{2}} + \\frac{1}{l_{2}^{2} m_{1}} + \\frac{2}{l_{1} l_{2} m_{1}} + \\frac{1}{l_{1}^{2} m_{1}}\\right)\\end{matrix}\\right]$"
      ],
      "text/plain": [
       "Matrix([\n",
       "[                                                              (-b_1*Derivative(\\phi_1(t), t) + g*l_2*m_2*\\phi_2(t) - (g*l_1*(m_1 + m_2) + g*l_2*m_2)*\\phi_1(t) + u(t))/(l_1**2*m_1) + (l_1 + l_2)*(-b_2*Derivative(\\phi_2(t), t) + g*l_2*m_2*\\phi_1(t) - g*l_2*m_2*\\phi_2(t))/(l_1**2*l_2*m_1)],\n",
       "[(1/(l_1*l_2*m_1) + 1/(l_1**2*m_1))*(-b_1*Derivative(\\phi_1(t), t) + g*l_2*m_2*\\phi_2(t) - (g*l_1*(m_1 + m_2) + g*l_2*m_2)*\\phi_1(t) + u(t)) + (-b_2*Derivative(\\phi_2(t), t) + g*l_2*m_2*\\phi_1(t) - g*l_2*m_2*\\phi_2(t))*(1/(l_2**2*m_2) + 1/(l_2**2*m_1) + 2/(l_1*l_2*m_1) + 1/(l_1**2*m_1))]])"
      ]
     },
     "execution_count": 26,
     "metadata": {},
     "output_type": "execute_result"
    }
   ],
   "source": [
    "phi_double_dot_2 = M.inv() * (sp.Matrix([u(t), 0]) - (G * phi_dot) - (K_2 * phi))\n",
    "phi_double_dot_2"
   ]
  },
  {
   "cell_type": "code",
   "execution_count": 30,
   "id": "98024a96",
   "metadata": {},
   "outputs": [
    {
     "data": {
      "text/latex": [
       "$\\displaystyle \\left[\\begin{matrix}\\operatorname{x_{3}}{\\left(t \\right)}\\\\\\operatorname{x_{4}}{\\left(t \\right)}\\\\\\frac{- b_{1} \\operatorname{x_{3}}{\\left(t \\right)} + g l_{2} m_{2} \\operatorname{x_{2}}{\\left(t \\right)} - \\left(g l_{1} \\left(m_{1} + m_{2}\\right) + g l_{2} m_{2}\\right) \\operatorname{x_{1}}{\\left(t \\right)} + u{\\left(t \\right)}}{l_{1}^{2} m_{1}} + \\frac{\\left(l_{1} + l_{2}\\right) \\left(- b_{2} \\operatorname{x_{4}}{\\left(t \\right)} + g l_{2} m_{2} \\operatorname{x_{1}}{\\left(t \\right)} - g l_{2} m_{2} \\operatorname{x_{2}}{\\left(t \\right)}\\right)}{l_{1}^{2} l_{2} m_{1}}\\\\\\left(\\frac{1}{l_{1} l_{2} m_{1}} + \\frac{1}{l_{1}^{2} m_{1}}\\right) \\left(- b_{1} \\operatorname{x_{3}}{\\left(t \\right)} + g l_{2} m_{2} \\operatorname{x_{2}}{\\left(t \\right)} - \\left(g l_{1} \\left(m_{1} + m_{2}\\right) + g l_{2} m_{2}\\right) \\operatorname{x_{1}}{\\left(t \\right)} + u{\\left(t \\right)}\\right) + \\left(- b_{2} \\operatorname{x_{4}}{\\left(t \\right)} + g l_{2} m_{2} \\operatorname{x_{1}}{\\left(t \\right)} - g l_{2} m_{2} \\operatorname{x_{2}}{\\left(t \\right)}\\right) \\left(\\frac{1}{l_{2}^{2} m_{2}} + \\frac{1}{l_{2}^{2} m_{1}} + \\frac{2}{l_{1} l_{2} m_{1}} + \\frac{1}{l_{1}^{2} m_{1}}\\right)\\end{matrix}\\right]$"
      ],
      "text/plain": [
       "Matrix([\n",
       "[                                                                                                                                                                                                                                        x_3(t)],\n",
       "[                                                                                                                                                                                                                                        x_4(t)],\n",
       "[                                                              (-b_1*x_3(t) + g*l_2*m_2*x_2(t) - (g*l_1*(m_1 + m_2) + g*l_2*m_2)*x_1(t) + u(t))/(l_1**2*m_1) + (l_1 + l_2)*(-b_2*x_4(t) + g*l_2*m_2*x_1(t) - g*l_2*m_2*x_2(t))/(l_1**2*l_2*m_1)],\n",
       "[(1/(l_1*l_2*m_1) + 1/(l_1**2*m_1))*(-b_1*x_3(t) + g*l_2*m_2*x_2(t) - (g*l_1*(m_1 + m_2) + g*l_2*m_2)*x_1(t) + u(t)) + (-b_2*x_4(t) + g*l_2*m_2*x_1(t) - g*l_2*m_2*x_2(t))*(1/(l_2**2*m_2) + 1/(l_2**2*m_1) + 2/(l_1*l_2*m_1) + 1/(l_1**2*m_1))]])"
      ]
     },
     "execution_count": 30,
     "metadata": {},
     "output_type": "execute_result"
    }
   ],
   "source": [
    "x1 = sp.Function(r\"x_1\")\n",
    "x2 = sp.Function(r\"x_2\")\n",
    "x3 = sp.Function(r\"x_3\")\n",
    "x4 = sp.Function(r\"x_4\")\n",
    "\n",
    "substitution = {phi1(t): x1(t), phi2(t): x2(t), sp.diff(phi1(t), t): x3(t), sp.diff(phi2(t), t) : x4(t)}\n",
    "\n",
    "f = sp.Matrix([\n",
    "    x3(t),\n",
    "    x4(t),\n",
    "    phi_double_dot_2[0].subs(substitution),\n",
    "    phi_double_dot_2[1].subs(substitution)\n",
    "])\n",
    "\n",
    "f\n"
   ]
  },
  {
   "cell_type": "code",
   "execution_count": 31,
   "id": "def5d323",
   "metadata": {},
   "outputs": [
    {
     "data": {
      "text/latex": [
       "$\\displaystyle \\left[\\begin{matrix}\\operatorname{x_{3}}{\\left(t \\right)}\\\\\\operatorname{x_{4}}{\\left(t \\right)}\\\\- 130.8 \\operatorname{x_{1}}{\\left(t \\right)} - 52.32 \\operatorname{x_{2}}{\\left(t \\right)} - 6.82666666666667 \\operatorname{x_{3}}{\\left(t \\right)} - 0.0426666666666667 \\operatorname{x_{4}}{\\left(t \\right)}\\\\- 130.8 \\operatorname{x_{1}}{\\left(t \\right)} - 143.88 \\operatorname{x_{2}}{\\left(t \\right)} - 10.24 \\operatorname{x_{3}}{\\left(t \\right)} - 0.0817777777777778 \\operatorname{x_{4}}{\\left(t \\right)}\\end{matrix}\\right]$"
      ],
      "text/plain": [
       "Matrix([\n",
       "[                                                                            x_3(t)],\n",
       "[                                                                            x_4(t)],\n",
       "[-130.8*x_1(t) - 52.32*x_2(t) - 6.82666666666667*x_3(t) - 0.0426666666666667*x_4(t)],\n",
       "[          -130.8*x_1(t) - 143.88*x_2(t) - 10.24*x_3(t) - 0.0817777777777778*x_4(t)]])"
      ]
     },
     "execution_count": 31,
     "metadata": {},
     "output_type": "execute_result"
    }
   ],
   "source": [
    "physical_model = {\n",
    "    m1: 0.125,\n",
    "    m2: 0.05,\n",
    "    l1: 0.075,\n",
    "    l2: 0.15,\n",
    "    b1: 0.0048,\n",
    "    b2: 0.00002,\n",
    "    g: 9.81\n",
    "}\n",
    "\n",
    "f_no_control = f.subs({u(t) : 0})\n",
    "f_no_control_phys = f_no_control.subs(physical_model)\n",
    "f_no_control_phys"
   ]
  },
  {
   "cell_type": "code",
   "execution_count": 32,
   "id": "b380d4ca",
   "metadata": {},
   "outputs": [
    {
     "data": {
      "text/latex": [
       "$\\displaystyle \\left[\\begin{matrix}0 & 0 & 1 & 0\\\\0 & 0 & 0 & 1\\\\-130.8 & -52.32 & -6.82666666666667 & -0.0426666666666667\\\\-130.8 & -143.88 & -10.24 & -0.0817777777777778\\end{matrix}\\right]$"
      ],
      "text/plain": [
       "Matrix([\n",
       "[     0,       0,                 1,                   0],\n",
       "[     0,       0,                 0,                   1],\n",
       "[-130.8,  -52.32, -6.82666666666667, -0.0426666666666667],\n",
       "[-130.8, -143.88,            -10.24, -0.0817777777777778]])"
      ]
     },
     "execution_count": 32,
     "metadata": {},
     "output_type": "execute_result"
    }
   ],
   "source": [
    "down_down = {x1(t): sp.pi, x2(t): 0, x3(t): 0, x4(t): 0}\n",
    "A_down_down = f_no_control_phys.jacobian(sp.Matrix([x1(t), x2(t), x3(t), x4(t)])).subs(down_down)\n",
    "A_down_down"
   ]
  },
  {
   "cell_type": "code",
   "execution_count": null,
   "id": "a5692d24",
   "metadata": {},
   "outputs": [],
   "source": [
    "# Values for the down down are almost the same only differs by sign for some elements. \n",
    "# Don't know if it is correct\n",
    "# Eigenvalues have negative real part and an imaginary part"
   ]
  },
  {
   "cell_type": "code",
   "execution_count": 33,
   "id": "9311a6fc",
   "metadata": {},
   "outputs": [
    {
     "data": {
      "text/plain": [
       "{-3.2379213765723 - 14.3618227930511*I: 1,\n",
       " -0.216300845649924 - 7.43014317491027*I: 1,\n",
       " -0.216300845649924 + 7.43014317491027*I: 1,\n",
       " -3.2379213765723 + 14.3618227930511*I: 1}"
      ]
     },
     "execution_count": 33,
     "metadata": {},
     "output_type": "execute_result"
    }
   ],
   "source": [
    "A_down_down.eigenvals()"
   ]
  },
  {
   "cell_type": "code",
   "execution_count": null,
   "id": "2d413671",
   "metadata": {},
   "outputs": [],
   "source": [
    "# TODO: finish the rest of the assignment"
   ]
  }
 ],
 "metadata": {
  "kernelspec": {
   "display_name": "Python 3 (ipykernel)",
   "language": "python",
   "name": "python3"
  },
  "language_info": {
   "codemirror_mode": {
    "name": "ipython",
    "version": 3
   },
   "file_extension": ".py",
   "mimetype": "text/x-python",
   "name": "python",
   "nbconvert_exporter": "python",
   "pygments_lexer": "ipython3",
   "version": "3.9.7"
  }
 },
 "nbformat": 4,
 "nbformat_minor": 5
}
